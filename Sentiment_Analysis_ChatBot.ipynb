{
  "cells": [
    {
      "cell_type": "markdown",
      "metadata": {
        "id": "view-in-github",
        "colab_type": "text"
      },
      "source": [
        "<a href=\"https://colab.research.google.com/github/VishalRaj0/sentiment-analysis-chatbot/blob/main/Sentiment_Analysis_ChatBot.ipynb\" target=\"_parent\"><img src=\"https://colab.research.google.com/assets/colab-badge.svg\" alt=\"Open In Colab\"/></a>"
      ]
    },
    {
      "cell_type": "markdown",
      "source": [
        "<h1>Sentiment Analysis ChatBot using Tensorflow Keras</h1>\n",
        "<br>\n",
        "For Teachnook Artificial Intelligence February batch Major Project submission."
      ],
      "metadata": {
        "id": "gE1YbOE2QuPg"
      }
    },
    {
      "cell_type": "markdown",
      "source": [
        "<h3>Instructions:-</h3>\n",
        "<br>\n",
        "Before running please install all the modules using pip.\n",
        "<br>\n",
        "Output of the model is at the bottom of the notebook.\n"
      ],
      "metadata": {
        "id": "9P_Kf7ejR8Cu"
      }
    },
    {
      "cell_type": "code",
      "execution_count": null,
      "metadata": {
        "id": "z682XYsrjkY9"
      },
      "outputs": [],
      "source": [
        "import numpy as np\n",
        "\n",
        "import tensorflow_datasets as tfds\n",
        "import tensorflow as tf\n",
        "\n",
        "tfds.disable_progress_bar()"
      ]
    },
    {
      "cell_type": "code",
      "execution_count": null,
      "metadata": {
        "id": "Mp1Z7P9pYRSK"
      },
      "outputs": [],
      "source": [
        "import matplotlib.pyplot as plt\n",
        "\n",
        "\n",
        "def plot_graphs(history, metric):\n",
        "  plt.plot(history.history[metric])\n",
        "  plt.plot(history.history['val_'+metric], '')\n",
        "  plt.xlabel(\"Epochs\")\n",
        "  plt.ylabel(metric)\n",
        "  plt.legend([metric, 'val_'+metric])"
      ]
    },
    {
      "cell_type": "code",
      "source": [
        "dataset, info = tfds.load('imdb_reviews', with_info=True,\n",
        "                          as_supervised=True)\n",
        "train_dataset, test_dataset = dataset['train'], dataset['test']\n",
        "\n",
        "train_dataset.element_spec"
      ],
      "metadata": {
        "colab": {
          "base_uri": "https://localhost:8080/"
        },
        "id": "N2DNt7p_KLb0",
        "outputId": "42f9b0fc-8dd0-41ae-d3c3-2bf84c2cfa66"
      },
      "execution_count": null,
      "outputs": [
        {
          "output_type": "execute_result",
          "data": {
            "text/plain": [
              "(TensorSpec(shape=(), dtype=tf.string, name=None),\n",
              " TensorSpec(shape=(), dtype=tf.int64, name=None))"
            ]
          },
          "metadata": {},
          "execution_count": 90
        }
      ]
    },
    {
      "cell_type": "code",
      "execution_count": null,
      "metadata": {
        "id": "vd4_BGKyurao",
        "colab": {
          "base_uri": "https://localhost:8080/"
        },
        "outputId": "43243ca7-a6ad-43bb-fd8a-37487a2c1c37"
      },
      "outputs": [
        {
          "output_type": "stream",
          "name": "stdout",
          "text": [
            "text:  b\"This was an absolutely terrible movie. Don't be lured in by Christopher Walken or Michael Ironside. Both are great actors, but this must simply be their worst role in history. Even their great acting could not redeem this movie's ridiculous storyline. This movie is an early nineties US propaganda piece. The most pathetic scenes were those when the Columbian rebels were making their cases for revolutions. Maria Conchita Alonso appeared phony, and her pseudo-love affair with Walken was nothing but a pathetic emotional plug in a movie that was devoid of any real meaning. I am disappointed that there are movies like this, ruining actor's like Christopher Walken's good name. I could barely sit through it.\"\n",
            "label:  0\n"
          ]
        }
      ],
      "source": [
        "for example, label in train_dataset.take(1):\n",
        "  print('text: ', example.numpy())\n",
        "  print('label: ', label.numpy())"
      ]
    },
    {
      "cell_type": "code",
      "execution_count": null,
      "metadata": {
        "id": "dDsCaZCDYZgm"
      },
      "outputs": [],
      "source": [
        "BUFFER_SIZE = 10000\n",
        "BATCH_SIZE = 64"
      ]
    },
    {
      "cell_type": "code",
      "execution_count": null,
      "metadata": {
        "id": "VznrltNOnUc5"
      },
      "outputs": [],
      "source": [
        "train_dataset = train_dataset.shuffle(BUFFER_SIZE).batch(BATCH_SIZE).prefetch(tf.data.AUTOTUNE)\n",
        "test_dataset = test_dataset.batch(BATCH_SIZE).prefetch(tf.data.AUTOTUNE)"
      ]
    },
    {
      "cell_type": "code",
      "execution_count": null,
      "metadata": {
        "id": "jqkvdcFv41wC",
        "colab": {
          "base_uri": "https://localhost:8080/"
        },
        "outputId": "f4dce250-7b1f-466a-cd1d-edbfb68c1b49"
      },
      "outputs": [
        {
          "output_type": "stream",
          "name": "stdout",
          "text": [
            "texts:  [b\"After the unexpected accident that killed an inexperienced climber (Michelle Joyner). Eight months has passed... The Rocky Mountain Rescue receive a distress call set by a brilliant terrorist mastermind Eric Quaien (John Lithgow). Quaien has lost three large cases that has millions of dollars inside. Two experienced climbers Walker (Sylvester Stallone) and Tucker (Micheal Rooker) and a helicopter pilot (Janine Turner) are to the rescue but they are set by a trap by Quaien and his men. Now the two climbers and pilot are forced to play a deadly game of hide and seek. While Quaien is trying to find the millions of dollars and he kidnapped Tucker to find the money. Once Tucker finds the money, Tucker will be dead. Against explosive firepower, bitter cold and dizzying heights. Walker must outwit Quaien for survival.<br /><br />Directed by Renny Harlin (Driven, Mindhunters, A Nightmare on Elm Street 4:The Dream Master) made an entertaining non-stop action picture. This film is a spectacular, exciting, visually exciting action picture with plenty of dark humour as well. This was one of the biggest hits of 1993. This is one of Harlin's best film. Lithgow is a terrific entertaining villain. Stallone certainly made an short comeback of this sharp thriller. This is probably Harlin's best work as a filmmaker.<br /><br />DVD has an sharp anamorphic Widescreen (2.35:1) transfer and an terrific-Dolby Digital 5.1 Surround Sound. DVD has an running commentary track by the director with comments by Stallone. DVD also has technical crew commentary as well. DVD has behind the scenes featurette, two deleted scenes with introduction by the director and more. Do not miss this great action film. Screenplay by Micheal France (Fantastic Four) and actor:Stallone (The Rocky Series). Based on a premise by John Long. Excellent Cinematography by Alex Thomson, B.S.C. (Alien\\xc2\\xb3, Demolition Man, Legend). Oscar Nominated for Best Sound, Best Sound Editing and Best Visual Effects. Panavision. (****/*****).\"\n",
            " b'I found about the movie \"Holes\" by hearing from people that it wasn\\'t typical Disney, that both kids and adults both got into the story. Folks, let me tell you I wasn\\'t disappointed. \"Holes\" is based on the novel by Louis Sachar and follows the adventure of Stanley Yelnats, a boy who gets sent to a strange juvenile detention camp out in the desert. He befriends a boy nicknamed Zero and together they set out on adventure that changes their lives. It was a very interesting, unique, different and funny story. I didn\\'t know quite what to expect when I watched it. It was interesting to see the story come together like pieces of a puzzle. The boys who played the juvenile delinquents were all very funny and Jon Voight was just hilarious as Mr. Sir. Now that I\\'ve seen the movie, I have to read the book. Most recommended!'\n",
            " b\"Good performances can't save this terrible script, larded with every cliche in the chick-flick book. Both main characters are deeply unsympathetic, and the scene where Laura Linney's character reminisces about sex with her dead husband in front of her teenage son -- which I think is supposed to be poignant -- is just horrifying.\"]\n",
            "\n",
            "labels:  [1 1 0]\n"
          ]
        }
      ],
      "source": [
        "for example, label in train_dataset.take(1):\n",
        "  print('texts: ', example.numpy()[:3])\n",
        "  print()\n",
        "  print('labels: ', label.numpy()[:3])"
      ]
    },
    {
      "cell_type": "code",
      "execution_count": null,
      "metadata": {
        "id": "uC25Lu1Yvuqy"
      },
      "outputs": [],
      "source": [
        "VOCAB_SIZE = 1000\n",
        "encoder = tf.keras.layers.TextVectorization(\n",
        "    max_tokens=VOCAB_SIZE)\n",
        "encoder.adapt(train_dataset.map(lambda text, label: text))"
      ]
    },
    {
      "cell_type": "code",
      "execution_count": null,
      "metadata": {
        "id": "tBoyjjWg0Ac9",
        "colab": {
          "base_uri": "https://localhost:8080/"
        },
        "outputId": "c83e6563-51a1-4a38-b004-e022dc531199"
      },
      "outputs": [
        {
          "output_type": "execute_result",
          "data": {
            "text/plain": [
              "array(['', '[UNK]', 'the', 'and', 'a', 'of', 'to', 'is', 'in', 'it', 'i',\n",
              "       'this', 'that', 'br', 'was', 'as', 'for', 'with', 'movie', 'but'],\n",
              "      dtype='<U14')"
            ]
          },
          "metadata": {},
          "execution_count": 11
        }
      ],
      "source": [
        "vocab = np.array(encoder.get_vocabulary())\n",
        "vocab[:20]"
      ]
    },
    {
      "cell_type": "code",
      "execution_count": null,
      "metadata": {
        "id": "RGc7C9WiwRWs",
        "colab": {
          "base_uri": "https://localhost:8080/"
        },
        "outputId": "7c9a33f9-d4ad-42b4-8c54-b5633d3f94d4"
      },
      "outputs": [
        {
          "output_type": "execute_result",
          "data": {
            "text/plain": [
              "array([[101,   2,   1, ...,   0,   0,   0],\n",
              "       [ 10, 249,  43, ...,   0,   0,   0],\n",
              "       [ 50, 347, 175, ...,   0,   0,   0]])"
            ]
          },
          "metadata": {},
          "execution_count": 12
        }
      ],
      "source": [
        "encoded_example = encoder(example)[:3].numpy()\n",
        "encoded_example"
      ]
    },
    {
      "cell_type": "code",
      "execution_count": null,
      "metadata": {
        "id": "N_tD0QY5wXaK",
        "colab": {
          "base_uri": "https://localhost:8080/"
        },
        "outputId": "f0198a46-3872-4441-b753-635a90917600"
      },
      "outputs": [
        {
          "output_type": "stream",
          "name": "stdout",
          "text": [
            "Original:  b\"After the unexpected accident that killed an inexperienced climber (Michelle Joyner). Eight months has passed... The Rocky Mountain Rescue receive a distress call set by a brilliant terrorist mastermind Eric Quaien (John Lithgow). Quaien has lost three large cases that has millions of dollars inside. Two experienced climbers Walker (Sylvester Stallone) and Tucker (Micheal Rooker) and a helicopter pilot (Janine Turner) are to the rescue but they are set by a trap by Quaien and his men. Now the two climbers and pilot are forced to play a deadly game of hide and seek. While Quaien is trying to find the millions of dollars and he kidnapped Tucker to find the money. Once Tucker finds the money, Tucker will be dead. Against explosive firepower, bitter cold and dizzying heights. Walker must outwit Quaien for survival.<br /><br />Directed by Renny Harlin (Driven, Mindhunters, A Nightmare on Elm Street 4:The Dream Master) made an entertaining non-stop action picture. This film is a spectacular, exciting, visually exciting action picture with plenty of dark humour as well. This was one of the biggest hits of 1993. This is one of Harlin's best film. Lithgow is a terrific entertaining villain. Stallone certainly made an short comeback of this sharp thriller. This is probably Harlin's best work as a filmmaker.<br /><br />DVD has an sharp anamorphic Widescreen (2.35:1) transfer and an terrific-Dolby Digital 5.1 Surround Sound. DVD has an running commentary track by the director with comments by Stallone. DVD also has technical crew commentary as well. DVD has behind the scenes featurette, two deleted scenes with introduction by the director and more. Do not miss this great action film. Screenplay by Micheal France (Fantastic Four) and actor:Stallone (The Rocky Series). Based on a premise by John Long. Excellent Cinematography by Alex Thomson, B.S.C. (Alien\\xc2\\xb3, Demolition Man, Legend). Oscar Nominated for Best Sound, Best Sound Editing and Best Visual Effects. Panavision. (****/*****).\"\n",
            "Round-trip:  after the [UNK] [UNK] that killed an [UNK] [UNK] [UNK] [UNK] [UNK] [UNK] has [UNK] the [UNK] [UNK] [UNK] [UNK] a [UNK] call set by a brilliant [UNK] [UNK] [UNK] [UNK] john [UNK] [UNK] has lost three [UNK] [UNK] that has [UNK] of [UNK] inside two [UNK] [UNK] [UNK] [UNK] [UNK] and [UNK] [UNK] [UNK] and a [UNK] [UNK] [UNK] [UNK] are to the [UNK] but they are set by a [UNK] by [UNK] and his men now the two [UNK] and [UNK] are forced to play a [UNK] game of [UNK] and [UNK] while [UNK] is trying to find the [UNK] of [UNK] and he [UNK] [UNK] to find the money once [UNK] finds the money [UNK] will be dead against [UNK] [UNK] [UNK] [UNK] and [UNK] [UNK] [UNK] must [UNK] [UNK] for [UNK] br directed by [UNK] [UNK] [UNK] [UNK] a [UNK] on [UNK] street [UNK] dream [UNK] made an entertaining [UNK] action picture this film is a [UNK] [UNK] [UNK] [UNK] action picture with plenty of dark [UNK] as well this was one of the [UNK] [UNK] of [UNK] this is one of [UNK] best film [UNK] is a [UNK] entertaining [UNK] [UNK] certainly made an short [UNK] of this [UNK] thriller this is probably [UNK] best work as a [UNK] br dvd has an [UNK] [UNK] [UNK] [UNK] [UNK] and an [UNK] [UNK] [UNK] [UNK] sound dvd has an running [UNK] [UNK] by the director with comments by [UNK] dvd also has [UNK] [UNK] [UNK] as well dvd has behind the scenes [UNK] two [UNK] scenes with [UNK] by the director and more do not miss this great action film screenplay by [UNK] [UNK] fantastic four and [UNK] the [UNK] series based on a premise by john long excellent cinematography by [UNK] [UNK] [UNK] [UNK] [UNK] man [UNK] oscar [UNK] for best sound best sound editing and best [UNK] effects [UNK]                                                                                                                                                                                                                                                                                                                                                                                                                                                                                                  \n",
            "\n",
            "Original:  b'I found about the movie \"Holes\" by hearing from people that it wasn\\'t typical Disney, that both kids and adults both got into the story. Folks, let me tell you I wasn\\'t disappointed. \"Holes\" is based on the novel by Louis Sachar and follows the adventure of Stanley Yelnats, a boy who gets sent to a strange juvenile detention camp out in the desert. He befriends a boy nicknamed Zero and together they set out on adventure that changes their lives. It was a very interesting, unique, different and funny story. I didn\\'t know quite what to expect when I watched it. It was interesting to see the story come together like pieces of a puzzle. The boys who played the juvenile delinquents were all very funny and Jon Voight was just hilarious as Mr. Sir. Now that I\\'ve seen the movie, I have to read the book. Most recommended!'\n",
            "Round-trip:  i found about the movie [UNK] by [UNK] from people that it wasnt typical disney that both kids and [UNK] both got into the story [UNK] let me tell you i wasnt disappointed [UNK] is based on the novel by [UNK] [UNK] and [UNK] the [UNK] of [UNK] [UNK] a boy who gets [UNK] to a strange [UNK] [UNK] [UNK] out in the [UNK] he [UNK] a boy [UNK] [UNK] and together they set out on [UNK] that [UNK] their lives it was a very interesting unique different and funny story i didnt know quite what to expect when i watched it it was interesting to see the story come together like [UNK] of a [UNK] the boys who played the [UNK] [UNK] were all very funny and [UNK] [UNK] was just hilarious as mr [UNK] now that ive seen the movie i have to read the book most [UNK]                                                                                                                                                                                                                                                                                                                                                                                                                                                                                                                                                                                                                                                                       \n",
            "\n",
            "Original:  b\"Good performances can't save this terrible script, larded with every cliche in the chick-flick book. Both main characters are deeply unsympathetic, and the scene where Laura Linney's character reminisces about sex with her dead husband in front of her teenage son -- which I think is supposed to be poignant -- is just horrifying.\"\n",
            "Round-trip:  good performances cant save this terrible script [UNK] with every [UNK] in the [UNK] book both main characters are [UNK] [UNK] and the scene where [UNK] [UNK] character [UNK] about sex with her dead husband in [UNK] of her [UNK] son which i think is supposed to be [UNK] is just [UNK]                                                                                                                                                                                                                                                                                                                                                                                                                                                                                                                                                                                                                                                                                                                                                                         \n",
            "\n"
          ]
        }
      ],
      "source": [
        "for n in range(3):\n",
        "  print(\"Original: \", example[n].numpy())\n",
        "  print(\"Round-trip: \", \" \".join(vocab[encoded_example[n]]))\n",
        "  print()"
      ]
    },
    {
      "cell_type": "code",
      "execution_count": null,
      "metadata": {
        "id": "LwfoBkmRYcP3"
      },
      "outputs": [],
      "source": [
        "model = tf.keras.Sequential([\n",
        "    encoder,\n",
        "    tf.keras.layers.Embedding(len(encoder.get_vocabulary()), 64, mask_zero=True),\n",
        "    tf.keras.layers.Bidirectional(tf.keras.layers.LSTM(64,  return_sequences=True)),\n",
        "    tf.keras.layers.Bidirectional(tf.keras.layers.LSTM(32)),\n",
        "    tf.keras.layers.Dense(64, activation='relu'),\n",
        "    tf.keras.layers.Dropout(0.5),\n",
        "    tf.keras.layers.Dense(1)\n",
        "])"
      ]
    },
    {
      "cell_type": "code",
      "execution_count": null,
      "metadata": {
        "id": "87a8-CwfKebw",
        "colab": {
          "base_uri": "https://localhost:8080/"
        },
        "outputId": "214d218c-cadb-434c-87be-c6c1650dafbc"
      },
      "outputs": [
        {
          "output_type": "stream",
          "name": "stdout",
          "text": [
            "[False, True, True, True, True, True, True]\n"
          ]
        }
      ],
      "source": [
        "print([layer.supports_masking for layer in model.layers])"
      ]
    },
    {
      "cell_type": "code",
      "execution_count": null,
      "metadata": {
        "id": "O41gw3KfWHus",
        "colab": {
          "base_uri": "https://localhost:8080/"
        },
        "outputId": "18168878-6bd1-4aa6-eac7-29cf87e7a6c6"
      },
      "outputs": [
        {
          "output_type": "stream",
          "name": "stdout",
          "text": [
            "1/1 [==============================] - 5s 5s/step\n",
            "[-0.00464395]\n"
          ]
        }
      ],
      "source": [
        "sample_text = ('The movie was cool. The animation and the graphics '\n",
        "               'were out of this world. I would recommend this movie.')\n",
        "predictions = model.predict(np.array([sample_text]))\n",
        "print(predictions[0])"
      ]
    },
    {
      "cell_type": "code",
      "execution_count": null,
      "metadata": {
        "id": "UIgpuTeFNDzq",
        "colab": {
          "base_uri": "https://localhost:8080/"
        },
        "outputId": "ffdc95ce-e3d4-41dd-b85f-0b39e9f59872"
      },
      "outputs": [
        {
          "output_type": "stream",
          "name": "stdout",
          "text": [
            "1/1 [==============================] - 0s 108ms/step\n",
            "[-0.00464395]\n"
          ]
        }
      ],
      "source": [
        "padding = \"the \" * 2000\n",
        "predictions = model.predict(np.array([sample_text, padding]))\n",
        "print(predictions[0])"
      ]
    },
    {
      "cell_type": "code",
      "execution_count": null,
      "metadata": {
        "id": "kj2xei41YZjC"
      },
      "outputs": [],
      "source": [
        "model.compile(loss=tf.keras.losses.BinaryCrossentropy(from_logits=True),\n",
        "              optimizer=tf.keras.optimizers.Adam(1e-4),\n",
        "              metrics=['accuracy'])"
      ]
    },
    {
      "cell_type": "code",
      "execution_count": null,
      "metadata": {
        "id": "hw86wWS4YgR2",
        "colab": {
          "base_uri": "https://localhost:8080/"
        },
        "outputId": "88108fa3-5fea-4395-c239-5c67834c4934"
      },
      "outputs": [
        {
          "output_type": "stream",
          "name": "stdout",
          "text": [
            "Epoch 1/10\n",
            "391/391 [==============================] - 81s 160ms/step - loss: 0.6474 - accuracy: 0.5560 - val_loss: 0.4299 - val_accuracy: 0.8141\n",
            "Epoch 2/10\n",
            "391/391 [==============================] - 51s 130ms/step - loss: 0.3815 - accuracy: 0.8249 - val_loss: 0.3739 - val_accuracy: 0.8505\n",
            "Epoch 3/10\n",
            "391/391 [==============================] - 50s 129ms/step - loss: 0.3338 - accuracy: 0.8546 - val_loss: 0.3391 - val_accuracy: 0.8557\n",
            "Epoch 4/10\n",
            "391/391 [==============================] - 49s 124ms/step - loss: 0.3200 - accuracy: 0.8619 - val_loss: 0.3223 - val_accuracy: 0.8531\n",
            "Epoch 5/10\n",
            "391/391 [==============================] - 51s 129ms/step - loss: 0.3101 - accuracy: 0.8686 - val_loss: 0.3369 - val_accuracy: 0.8391\n",
            "Epoch 6/10\n",
            "391/391 [==============================] - 49s 124ms/step - loss: 0.3093 - accuracy: 0.8670 - val_loss: 0.3206 - val_accuracy: 0.8573\n",
            "Epoch 7/10\n",
            "391/391 [==============================] - 49s 125ms/step - loss: 0.3017 - accuracy: 0.8705 - val_loss: 0.3335 - val_accuracy: 0.8495\n",
            "Epoch 8/10\n",
            "391/391 [==============================] - 49s 125ms/step - loss: 0.3006 - accuracy: 0.8699 - val_loss: 0.3193 - val_accuracy: 0.8589\n",
            "Epoch 9/10\n",
            "391/391 [==============================] - 49s 124ms/step - loss: 0.2970 - accuracy: 0.8720 - val_loss: 0.3302 - val_accuracy: 0.8615\n",
            "Epoch 10/10\n",
            "391/391 [==============================] - 50s 128ms/step - loss: 0.2944 - accuracy: 0.8730 - val_loss: 0.3265 - val_accuracy: 0.8562\n"
          ]
        }
      ],
      "source": [
        "history = model.fit(train_dataset, epochs=10,\n",
        "                    validation_data=test_dataset,\n",
        "                    validation_steps=30)"
      ]
    },
    {
      "cell_type": "code",
      "execution_count": null,
      "metadata": {
        "id": "BaNbXi43YgUT",
        "colab": {
          "base_uri": "https://localhost:8080/"
        },
        "outputId": "fb9417b8-2d70-4242-dc3d-84c8d9a87bf4"
      },
      "outputs": [
        {
          "output_type": "stream",
          "name": "stdout",
          "text": [
            "391/391 [==============================] - 21s 53ms/step - loss: 0.3217 - accuracy: 0.8551\n",
            "Test Loss: 0.3216681182384491\n",
            "Test Accuracy: 0.8551200032234192\n"
          ]
        }
      ],
      "source": [
        "test_loss, test_acc = model.evaluate(test_dataset)\n",
        "\n",
        "print('Test Loss:', test_loss)\n",
        "print('Test Accuracy:', test_acc)"
      ]
    },
    {
      "cell_type": "code",
      "execution_count": null,
      "metadata": {
        "id": "OZmwt_mzaQJk",
        "colab": {
          "base_uri": "https://localhost:8080/",
          "height": 460
        },
        "outputId": "d23806c7-ae99-4a51-970b-7281fae634fc"
      },
      "outputs": [
        {
          "output_type": "display_data",
          "data": {
            "text/plain": [
              "<Figure size 1600x600 with 2 Axes>"
            ],
            "image/png": "[encoded data removed]"
          },
          "metadata": {}
        }
      ],
      "source": [
        "plt.figure(figsize=(16, 6))\n",
        "plt.subplot(1, 2, 1)\n",
        "plot_graphs(history, 'accuracy')\n",
        "plt.subplot(1, 2, 2)\n",
        "plot_graphs(history, 'loss')"
      ]
    },
    {
      "cell_type": "code",
      "execution_count": null,
      "metadata": {
        "id": "ZXgfQSgRW6zU",
        "colab": {
          "base_uri": "https://localhost:8080/"
        },
        "outputId": "e42c6ebc-23e8-4793-da5c-4f6340dd6ae9"
      },
      "outputs": [
        {
          "output_type": "stream",
          "name": "stdout",
          "text": [
            "1/1 [==============================] - 0s 98ms/step\n",
            "[[0.4824682]]\n"
          ]
        }
      ],
      "source": [
        "sample_text = ('The movie was cool. The animation and the graphics '\n",
        "               'were out of this world. I would recommend this movie.')\n",
        "predictions = model.predict(np.array([sample_text]))\n",
        "print(predictions)"
      ]
    },
    {
      "cell_type": "code",
      "source": [
        "def sentiment_analysis(predictions):\n",
        "  if predictions >= 0.45:\n",
        "    return(\"Positive\")\n",
        "  elif predictions <= -0.45:\n",
        "    return(\"Negative\")\n",
        "  else:\n",
        "    return(\"Neutral\")"
      ],
      "metadata": {
        "id": "dl0-GUAo_dnZ"
      },
      "execution_count": null,
      "outputs": []
    },
    {
      "cell_type": "code",
      "source": [
        "while(True):\n",
        "  user_input = (input(\"You: \").lower())\n",
        "  if user_input == \"quit\":\n",
        "    break\n",
        "  predictions = model.predict(np.array([user_input]))\n",
        "  sentiment = sentiment_analysis(predictions)\n",
        "  print(\"Your sentiment is:\", sentiment)"
      ],
      "metadata": {
        "colab": {
          "base_uri": "https://localhost:8080/"
        },
        "id": "DP3radhZ_fYa",
        "outputId": "b3e968ad-1e08-45f8-84d0-1662cb815481"
      },
      "execution_count": null,
      "outputs": [
        {
          "name": "stdout",
          "output_type": "stream",
          "text": [
            "You: i feel great this morning\n",
            "1/1 [==============================] - 0s 34ms/step\n",
            "Your sentiment is: Positive\n",
            "You: this view is amazing.\n",
            "1/1 [==============================] - 0s 20ms/step\n",
            "Your sentiment is: Positive\n",
            "You: He is my best friend.\n",
            "1/1 [==============================] - 0s 23ms/step\n",
            "Your sentiment is: Positive\n",
            "You: This view is horrible\n",
            "1/1 [==============================] - 0s 21ms/step\n",
            "Your sentiment is: Negative\n",
            "You: I am not looking forward to this concert.\n",
            "1/1 [==============================] - 0s 21ms/step\n",
            "Your sentiment is: Negative\n",
            "You: He is my enemy.\n",
            "1/1 [==============================] - 0s 21ms/step\n",
            "Your sentiment is: Neutral\n",
            "You: There is a book on the desk.\n",
            "1/1 [==============================] - 0s 20ms/step\n",
            "Your sentiment is: Neutral\n",
            "You: Childhood is the time to play\n",
            "1/1 [==============================] - 0s 22ms/step\n",
            "Your sentiment is: Neutral\n",
            "You: Childhood will be terrible without games.\n",
            "1/1 [==============================] - 0s 21ms/step\n",
            "Your sentiment is: Negative\n",
            "You: quit\n"
          ]
        }
      ]
    }
  ],
  "metadata": {
    "accelerator": "GPU",
    "colab": {
      "provenance": [],
      "toc_visible": true,
      "include_colab_link": true
    },
    "kernelspec": {
      "display_name": "Python 3",
      "name": "python3"
    }
  },
  "nbformat": 4,
  "nbformat_minor": 0
}